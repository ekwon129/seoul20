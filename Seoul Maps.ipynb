{
 "cells": [
  {
   "cell_type": "code",
   "execution_count": 1,
   "metadata": {},
   "outputs": [],
   "source": [
    "import pandas as pd"
   ]
  },
  {
   "cell_type": "code",
   "execution_count": 2,
   "metadata": {},
   "outputs": [],
   "source": [
    "import matplotlib.pyplot as plt"
   ]
  },
  {
   "cell_type": "code",
   "execution_count": 3,
   "metadata": {},
   "outputs": [],
   "source": [
    "import geopandas as gpd"
   ]
  },
  {
   "cell_type": "code",
   "execution_count": 4,
   "metadata": {},
   "outputs": [],
   "source": [
    "%matplotlib inline"
   ]
  },
  {
   "cell_type": "code",
   "execution_count": 5,
   "metadata": {},
   "outputs": [],
   "source": [
    "sk_province = gpd.read_file('skorea-provinces-2018-geo.json')"
   ]
  },
  {
   "cell_type": "code",
   "execution_count": 6,
   "metadata": {},
   "outputs": [],
   "source": [
    "sk_muni = gpd.read_file('skorea-municipalities-2018-geo.json')"
   ]
  },
  {
   "cell_type": "code",
   "execution_count": 7,
   "metadata": {},
   "outputs": [],
   "source": [
    "sk_submuni = gpd.read_file('skorea-submunicipalities-2018-geo.json')"
   ]
  },
  {
   "cell_type": "code",
   "execution_count": 8,
   "metadata": {},
   "outputs": [
    {
     "data": {
      "text/plain": [
       "<bound method NDFrame.head of        name base_year           name_eng code  \\\n",
       "0     서울특별시      2018              Seoul   11   \n",
       "1     부산광역시      2018              Busan   21   \n",
       "2     대구광역시      2018              Daegu   22   \n",
       "3     인천광역시      2018            Incheon   23   \n",
       "4     광주광역시      2018            Gwangju   24   \n",
       "5     대전광역시      2018            Daejeon   25   \n",
       "6     울산광역시      2018              Ulsan   26   \n",
       "7   세종특별자치시      2018           Sejongsi   29   \n",
       "8       경기도      2018        Gyeonggi-do   31   \n",
       "9       강원도      2018         Gangwon-do   32   \n",
       "10     충청북도      2018  Chungcheongbuk-do   33   \n",
       "11     충청남도      2018  Chungcheongnam-do   34   \n",
       "12     전라북도      2018       Jeollabuk-do   35   \n",
       "13     전라남도      2018       Jeollanam-do   36   \n",
       "14     경상북도      2018   Gyeongsangbuk-do   37   \n",
       "15     경상남도      2018   Gyeongsangnam-do   38   \n",
       "16  제주특별자치도      2018            Jeju-do   39   \n",
       "\n",
       "                                             geometry  \n",
       "0   POLYGON ((127.02215 37.69972, 127.02532 37.699...  \n",
       "1   MULTIPOLYGON (((128.82870 35.08997, 128.83203 ...  \n",
       "2   POLYGON ((128.69604 36.01557, 128.69680 36.013...  \n",
       "3   MULTIPOLYGON (((126.48207 37.24419, 126.48263 ...  \n",
       "4   POLYGON ((126.76338 35.25652, 126.76390 35.254...  \n",
       "5   POLYGON ((127.39892 36.48910, 127.40301 36.485...  \n",
       "6   POLYGON ((129.15948 35.71586, 129.16031 35.714...  \n",
       "7   POLYGON ((127.17206 36.73082, 127.17206 36.730...  \n",
       "8   MULTIPOLYGON (((126.74268 37.03800, 126.74268 ...  \n",
       "9   MULTIPOLYGON (((128.87722 37.84096, 128.87722 ...  \n",
       "10  POLYGON ((127.31049 36.72429, 127.31138 36.724...  \n",
       "11  MULTIPOLYGON (((126.37484 36.59656, 126.37510 ...  \n",
       "12  MULTIPOLYGON (((126.69982 35.99575, 126.70102 ...  \n",
       "13  MULTIPOLYGON (((126.55036 34.17716, 126.55344 ...  \n",
       "14  MULTIPOLYGON (((129.47620 35.69277, 129.47624 ...  \n",
       "15  MULTIPOLYGON (((128.35486 34.83885, 128.35492 ...  \n",
       "16  MULTIPOLYGON (((126.26792 33.12430, 126.26798 ...  >"
      ]
     },
     "execution_count": 8,
     "metadata": {},
     "output_type": "execute_result"
    }
   ],
   "source": [
    "sk_province.head"
   ]
  },
  {
   "cell_type": "code",
   "execution_count": 9,
   "metadata": {},
   "outputs": [
    {
     "data": {
      "text/plain": [
       "<bound method NDFrame.head of      name base_year      name_eng   code  \\\n",
       "0     종로구      2018     Jongno-gu  11010   \n",
       "1      중구      2018       Jung-gu  11020   \n",
       "2     용산구      2018    Yongsan-gu  11030   \n",
       "3     성동구      2018  Seongdong-gu  11040   \n",
       "4     광진구      2018   Gwangjin-gu  11050   \n",
       "..    ...       ...           ...    ...   \n",
       "245   함양군      2018   Hamyang-gun  38380   \n",
       "246   거창군      2018  Geochang-gun  38390   \n",
       "247   합천군      2018  Hapcheon-gun  38400   \n",
       "248   제주시      2018       Jeju-si  39010   \n",
       "249  서귀포시      2018   Seogwipo-si  39020   \n",
       "\n",
       "                                              geometry  \n",
       "0    MULTIPOLYGON (((126.97468 37.62981, 126.97497 ...  \n",
       "1    MULTIPOLYGON (((127.02339 37.57190, 127.02358 ...  \n",
       "2    MULTIPOLYGON (((126.97059 37.55388, 126.97059 ...  \n",
       "3    MULTIPOLYGON (((127.04324 37.57241, 127.04491 ...  \n",
       "4    MULTIPOLYGON (((127.10385 37.57049, 127.10272 ...  \n",
       "..                                                 ...  \n",
       "245  MULTIPOLYGON (((127.69511 35.75798, 127.69596 ...  \n",
       "246  MULTIPOLYGON (((127.88313 35.90586, 127.88219 ...  \n",
       "247  MULTIPOLYGON (((128.09861 35.83067, 128.09899 ...  \n",
       "248  MULTIPOLYGON (((126.14744 33.30976, 126.14528 ...  \n",
       "249  MULTIPOLYGON (((126.26792 33.12430, 126.26798 ...  \n",
       "\n",
       "[250 rows x 5 columns]>"
      ]
     },
     "execution_count": 9,
     "metadata": {},
     "output_type": "execute_result"
    }
   ],
   "source": [
    "sk_muni.head"
   ]
  },
  {
   "cell_type": "code",
   "execution_count": 10,
   "metadata": {
    "scrolled": true
   },
   "outputs": [
    {
     "data": {
      "text/plain": [
       "<bound method NDFrame.head of      name base_year          name_eng     code  \\\n",
       "0     사직동      2018        Sajik-dong  1101053   \n",
       "1     삼청동      2018    Samcheong-dong  1101054   \n",
       "2     부암동      2018         Buam-dong  1101055   \n",
       "3     평창동      2018  Pyeongchang-dong  1101056   \n",
       "4     무악동      2018         Muak-dong  1101057   \n",
       "...   ...       ...               ...      ...   \n",
       "3499  서홍동      2018      Seohong-dong  3902058   \n",
       "3500  대륜동      2018       Daeryundong  3902059   \n",
       "3501  대천동      2018     Daecheon-dong  3902060   \n",
       "3502  중문동      2018      Jungmun-dong  3902061   \n",
       "3503  예래동      2018         Yeraedong  3902062   \n",
       "\n",
       "                                               geometry  \n",
       "0     MULTIPOLYGON (((126.96894 37.57815, 126.96965 ...  \n",
       "1     MULTIPOLYGON (((126.97714 37.59768, 126.97874 ...  \n",
       "2     MULTIPOLYGON (((126.96173 37.60714, 126.96267 ...  \n",
       "3     MULTIPOLYGON (((126.96267 37.60567, 126.96173 ...  \n",
       "4     MULTIPOLYGON (((126.95975 37.58001, 126.96111 ...  \n",
       "...                                                 ...  \n",
       "3499  MULTIPOLYGON (((126.53012 33.31806, 126.53200 ...  \n",
       "3500  MULTIPOLYGON (((126.51613 33.22031, 126.51626 ...  \n",
       "3501  MULTIPOLYGON (((126.51429 33.36122, 126.51967 ...  \n",
       "3502  MULTIPOLYGON (((126.46566 33.36000, 126.46684 ...  \n",
       "3503  MULTIPOLYGON (((126.46396 33.35986, 126.46397 ...  \n",
       "\n",
       "[3504 rows x 5 columns]>"
      ]
     },
     "execution_count": 10,
     "metadata": {},
     "output_type": "execute_result"
    }
   ],
   "source": [
    "sk_submuni.head"
   ]
  },
  {
   "cell_type": "code",
   "execution_count": 26,
   "metadata": {},
   "outputs": [
    {
     "data": {
      "text/plain": [
       "name           object\n",
       "base_year      object\n",
       "name_eng       object\n",
       "code           object\n",
       "geometry     geometry\n",
       "dtype: object"
      ]
     },
     "execution_count": 26,
     "metadata": {},
     "output_type": "execute_result"
    }
   ],
   "source": [
    "sk_submuni.dtypes"
   ]
  },
  {
   "cell_type": "code",
   "execution_count": 11,
   "metadata": {},
   "outputs": [
    {
     "data": {
      "image/png": "[encoded data removed]",
      "text/plain": [
       "<Figure size 432x288 with 1 Axes>"
      ]
     },
     "metadata": {
      "needs_background": "light"
     },
     "output_type": "display_data"
    }
   ],
   "source": [
    "sk_submuni.plot();"
   ]
  },
  {
   "cell_type": "code",
   "execution_count": 22,
   "metadata": {},
   "outputs": [],
   "source": [
    "#seoul = sk_province.drop([1,2,3,4,5,6,7,8,9,10,11,12,13,14,15,16], axis=0)"
   ]
  },
  {
   "cell_type": "code",
   "execution_count": null,
   "metadata": {},
   "outputs": [],
   "source": []
  },
  {
   "cell_type": "code",
   "execution_count": 23,
   "metadata": {
    "scrolled": true
   },
   "outputs": [
    {
     "data": {
      "text/html": [
       "<div>\n",
       "<style scoped>\n",
       "    .dataframe tbody tr th:only-of-type {\n",
       "        vertical-align: middle;\n",
       "    }\n",
       "\n",
       "    .dataframe tbody tr th {\n",
       "        vertical-align: top;\n",
       "    }\n",
       "\n",
       "    .dataframe thead th {\n",
       "        text-align: right;\n",
       "    }\n",
       "</style>\n",
       "<table border=\"1\" class=\"dataframe\">\n",
       "  <thead>\n",
       "    <tr style=\"text-align: right;\">\n",
       "      <th></th>\n",
       "      <th>name</th>\n",
       "      <th>base_year</th>\n",
       "      <th>name_eng</th>\n",
       "      <th>code</th>\n",
       "      <th>geometry</th>\n",
       "    </tr>\n",
       "  </thead>\n",
       "  <tbody>\n",
       "    <tr>\n",
       "      <td>0</td>\n",
       "      <td>서울특별시</td>\n",
       "      <td>2018</td>\n",
       "      <td>Seoul</td>\n",
       "      <td>11</td>\n",
       "      <td>POLYGON ((127.02215 37.69972, 127.02532 37.699...</td>\n",
       "    </tr>\n",
       "  </tbody>\n",
       "</table>\n",
       "</div>"
      ],
      "text/plain": [
       "    name base_year name_eng code  \\\n",
       "0  서울특별시      2018    Seoul   11   \n",
       "\n",
       "                                            geometry  \n",
       "0  POLYGON ((127.02215 37.69972, 127.02532 37.699...  "
      ]
     },
     "execution_count": 23,
     "metadata": {},
     "output_type": "execute_result"
    }
   ],
   "source": [
    "#seoul"
   ]
  },
  {
   "cell_type": "code",
   "execution_count": 24,
   "metadata": {},
   "outputs": [
    {
     "data": {
      "text/plain": [
       "<matplotlib.axes._subplots.AxesSubplot at 0x1255ada50>"
      ]
     },
     "execution_count": 24,
     "metadata": {},
     "output_type": "execute_result"
    },
    {
     "data": {
      "image/png": "[encoded data removed]",
      "text/plain": [
       "<Figure size 432x288 with 1 Axes>"
      ]
     },
     "metadata": {
      "needs_background": "light"
     },
     "output_type": "display_data"
    }
   ],
   "source": [
    "seoul.plot()"
   ]
  },
  {
   "cell_type": "markdown",
   "metadata": {},
   "source": [
    "# Merge Attempt Below"
   ]
  },
  {
   "cell_type": "code",
   "execution_count": 41,
   "metadata": {},
   "outputs": [],
   "source": [
    "city_submuni = gpd.sjoin(sk_province, sk_submuni, how=\"inner\", op='intersects')"
   ]
  },
  {
   "cell_type": "code",
   "execution_count": 42,
   "metadata": {
    "scrolled": true
   },
   "outputs": [
    {
     "data": {
      "text/html": [
       "<div>\n",
       "<style scoped>\n",
       "    .dataframe tbody tr th:only-of-type {\n",
       "        vertical-align: middle;\n",
       "    }\n",
       "\n",
       "    .dataframe tbody tr th {\n",
       "        vertical-align: top;\n",
       "    }\n",
       "\n",
       "    .dataframe thead th {\n",
       "        text-align: right;\n",
       "    }\n",
       "</style>\n",
       "<table border=\"1\" class=\"dataframe\">\n",
       "  <thead>\n",
       "    <tr style=\"text-align: right;\">\n",
       "      <th></th>\n",
       "      <th>name_left</th>\n",
       "      <th>base_year_left</th>\n",
       "      <th>name_eng_left</th>\n",
       "      <th>code_left</th>\n",
       "      <th>geometry</th>\n",
       "      <th>index_right</th>\n",
       "      <th>name_right</th>\n",
       "      <th>base_year_right</th>\n",
       "      <th>name_eng_right</th>\n",
       "      <th>code_right</th>\n",
       "    </tr>\n",
       "  </thead>\n",
       "  <tbody>\n",
       "    <tr>\n",
       "      <td>0</td>\n",
       "      <td>서울특별시</td>\n",
       "      <td>2018</td>\n",
       "      <td>Seoul</td>\n",
       "      <td>11</td>\n",
       "      <td>POLYGON ((127.02215 37.69972, 127.02532 37.699...</td>\n",
       "      <td>1534</td>\n",
       "      <td>감북동</td>\n",
       "      <td>2018</td>\n",
       "      <td>Gambuk-dong</td>\n",
       "      <td>3118064</td>\n",
       "    </tr>\n",
       "    <tr>\n",
       "      <td>8</td>\n",
       "      <td>경기도</td>\n",
       "      <td>2018</td>\n",
       "      <td>Gyeonggi-do</td>\n",
       "      <td>31</td>\n",
       "      <td>MULTIPOLYGON (((126.74268 37.03800, 126.74268 ...</td>\n",
       "      <td>1534</td>\n",
       "      <td>감북동</td>\n",
       "      <td>2018</td>\n",
       "      <td>Gambuk-dong</td>\n",
       "      <td>3118064</td>\n",
       "    </tr>\n",
       "    <tr>\n",
       "      <td>0</td>\n",
       "      <td>서울특별시</td>\n",
       "      <td>2018</td>\n",
       "      <td>Seoul</td>\n",
       "      <td>11</td>\n",
       "      <td>POLYGON ((127.02215 37.69972, 127.02532 37.699...</td>\n",
       "      <td>1530</td>\n",
       "      <td>초이동</td>\n",
       "      <td>2018</td>\n",
       "      <td>Choi-dong</td>\n",
       "      <td>3118060</td>\n",
       "    </tr>\n",
       "    <tr>\n",
       "      <td>8</td>\n",
       "      <td>경기도</td>\n",
       "      <td>2018</td>\n",
       "      <td>Gyeonggi-do</td>\n",
       "      <td>31</td>\n",
       "      <td>MULTIPOLYGON (((126.74268 37.03800, 126.74268 ...</td>\n",
       "      <td>1530</td>\n",
       "      <td>초이동</td>\n",
       "      <td>2018</td>\n",
       "      <td>Choi-dong</td>\n",
       "      <td>3118060</td>\n",
       "    </tr>\n",
       "    <tr>\n",
       "      <td>0</td>\n",
       "      <td>서울특별시</td>\n",
       "      <td>2018</td>\n",
       "      <td>Seoul</td>\n",
       "      <td>11</td>\n",
       "      <td>POLYGON ((127.02215 37.69972, 127.02532 37.699...</td>\n",
       "      <td>1531</td>\n",
       "      <td>풍산동</td>\n",
       "      <td>2018</td>\n",
       "      <td>Pungsan-dong</td>\n",
       "      <td>3118061</td>\n",
       "    </tr>\n",
       "    <tr>\n",
       "      <td>...</td>\n",
       "      <td>...</td>\n",
       "      <td>...</td>\n",
       "      <td>...</td>\n",
       "      <td>...</td>\n",
       "      <td>...</td>\n",
       "      <td>...</td>\n",
       "      <td>...</td>\n",
       "      <td>...</td>\n",
       "      <td>...</td>\n",
       "      <td>...</td>\n",
       "    </tr>\n",
       "    <tr>\n",
       "      <td>16</td>\n",
       "      <td>제주특별자치도</td>\n",
       "      <td>2018</td>\n",
       "      <td>Jeju-do</td>\n",
       "      <td>39</td>\n",
       "      <td>MULTIPOLYGON (((126.26792 33.12430, 126.26798 ...</td>\n",
       "      <td>3474</td>\n",
       "      <td>용담1동</td>\n",
       "      <td>2018</td>\n",
       "      <td>Yongdam 1(il)-dong</td>\n",
       "      <td>3901057</td>\n",
       "    </tr>\n",
       "    <tr>\n",
       "      <td>16</td>\n",
       "      <td>제주특별자치도</td>\n",
       "      <td>2018</td>\n",
       "      <td>Jeju-do</td>\n",
       "      <td>39</td>\n",
       "      <td>MULTIPOLYGON (((126.26792 33.12430, 126.26798 ...</td>\n",
       "      <td>3473</td>\n",
       "      <td>삼도2동</td>\n",
       "      <td>2018</td>\n",
       "      <td>Samdo 2(i)-dong</td>\n",
       "      <td>3901056</td>\n",
       "    </tr>\n",
       "    <tr>\n",
       "      <td>16</td>\n",
       "      <td>제주특별자치도</td>\n",
       "      <td>2018</td>\n",
       "      <td>Jeju-do</td>\n",
       "      <td>39</td>\n",
       "      <td>MULTIPOLYGON (((126.26792 33.12430, 126.26798 ...</td>\n",
       "      <td>3468</td>\n",
       "      <td>일도1동</td>\n",
       "      <td>2018</td>\n",
       "      <td>Ildo 1(il)-dong</td>\n",
       "      <td>3901051</td>\n",
       "    </tr>\n",
       "    <tr>\n",
       "      <td>16</td>\n",
       "      <td>제주특별자치도</td>\n",
       "      <td>2018</td>\n",
       "      <td>Jeju-do</td>\n",
       "      <td>39</td>\n",
       "      <td>MULTIPOLYGON (((126.26792 33.12430, 126.26798 ...</td>\n",
       "      <td>3478</td>\n",
       "      <td>삼양동</td>\n",
       "      <td>2018</td>\n",
       "      <td>Samyang-dong</td>\n",
       "      <td>3901061</td>\n",
       "    </tr>\n",
       "    <tr>\n",
       "      <td>16</td>\n",
       "      <td>제주특별자치도</td>\n",
       "      <td>2018</td>\n",
       "      <td>Jeju-do</td>\n",
       "      <td>39</td>\n",
       "      <td>MULTIPOLYGON (((126.26792 33.12430, 126.26798 ...</td>\n",
       "      <td>3476</td>\n",
       "      <td>건입동</td>\n",
       "      <td>2018</td>\n",
       "      <td>Geonip-dong</td>\n",
       "      <td>3901059</td>\n",
       "    </tr>\n",
       "  </tbody>\n",
       "</table>\n",
       "<p>4086 rows × 10 columns</p>\n",
       "</div>"
      ],
      "text/plain": [
       "   name_left base_year_left name_eng_left code_left  \\\n",
       "0      서울특별시           2018         Seoul        11   \n",
       "8        경기도           2018   Gyeonggi-do        31   \n",
       "0      서울특별시           2018         Seoul        11   \n",
       "8        경기도           2018   Gyeonggi-do        31   \n",
       "0      서울특별시           2018         Seoul        11   \n",
       "..       ...            ...           ...       ...   \n",
       "16   제주특별자치도           2018       Jeju-do        39   \n",
       "16   제주특별자치도           2018       Jeju-do        39   \n",
       "16   제주특별자치도           2018       Jeju-do        39   \n",
       "16   제주특별자치도           2018       Jeju-do        39   \n",
       "16   제주특별자치도           2018       Jeju-do        39   \n",
       "\n",
       "                                             geometry  index_right name_right  \\\n",
       "0   POLYGON ((127.02215 37.69972, 127.02532 37.699...         1534        감북동   \n",
       "8   MULTIPOLYGON (((126.74268 37.03800, 126.74268 ...         1534        감북동   \n",
       "0   POLYGON ((127.02215 37.69972, 127.02532 37.699...         1530        초이동   \n",
       "8   MULTIPOLYGON (((126.74268 37.03800, 126.74268 ...         1530        초이동   \n",
       "0   POLYGON ((127.02215 37.69972, 127.02532 37.699...         1531        풍산동   \n",
       "..                                                ...          ...        ...   \n",
       "16  MULTIPOLYGON (((126.26792 33.12430, 126.26798 ...         3474       용담1동   \n",
       "16  MULTIPOLYGON (((126.26792 33.12430, 126.26798 ...         3473       삼도2동   \n",
       "16  MULTIPOLYGON (((126.26792 33.12430, 126.26798 ...         3468       일도1동   \n",
       "16  MULTIPOLYGON (((126.26792 33.12430, 126.26798 ...         3478        삼양동   \n",
       "16  MULTIPOLYGON (((126.26792 33.12430, 126.26798 ...         3476        건입동   \n",
       "\n",
       "   base_year_right      name_eng_right code_right  \n",
       "0             2018         Gambuk-dong    3118064  \n",
       "8             2018         Gambuk-dong    3118064  \n",
       "0             2018           Choi-dong    3118060  \n",
       "8             2018           Choi-dong    3118060  \n",
       "0             2018        Pungsan-dong    3118061  \n",
       "..             ...                 ...        ...  \n",
       "16            2018  Yongdam 1(il)-dong    3901057  \n",
       "16            2018     Samdo 2(i)-dong    3901056  \n",
       "16            2018     Ildo 1(il)-dong    3901051  \n",
       "16            2018        Samyang-dong    3901061  \n",
       "16            2018         Geonip-dong    3901059  \n",
       "\n",
       "[4086 rows x 10 columns]"
      ]
     },
     "execution_count": 42,
     "metadata": {},
     "output_type": "execute_result"
    }
   ],
   "source": [
    "city_submuni"
   ]
  },
  {
   "cell_type": "code",
   "execution_count": 48,
   "metadata": {},
   "outputs": [],
   "source": [
    "seoulnbds = city_submuni.loc[0] "
   ]
  },
  {
   "cell_type": "code",
   "execution_count": 51,
   "metadata": {},
   "outputs": [
    {
     "data": {
      "text/html": [
       "<div>\n",
       "<style scoped>\n",
       "    .dataframe tbody tr th:only-of-type {\n",
       "        vertical-align: middle;\n",
       "    }\n",
       "\n",
       "    .dataframe tbody tr th {\n",
       "        vertical-align: top;\n",
       "    }\n",
       "\n",
       "    .dataframe thead th {\n",
       "        text-align: right;\n",
       "    }\n",
       "</style>\n",
       "<table border=\"1\" class=\"dataframe\">\n",
       "  <thead>\n",
       "    <tr style=\"text-align: right;\">\n",
       "      <th></th>\n",
       "      <th>name_left</th>\n",
       "      <th>base_year_left</th>\n",
       "      <th>name_eng_left</th>\n",
       "      <th>code_left</th>\n",
       "      <th>geometry</th>\n",
       "      <th>index_right</th>\n",
       "      <th>name_right</th>\n",
       "      <th>base_year_right</th>\n",
       "      <th>name_eng_right</th>\n",
       "      <th>code_right</th>\n",
       "    </tr>\n",
       "  </thead>\n",
       "  <tbody>\n",
       "    <tr>\n",
       "      <td>0</td>\n",
       "      <td>서울특별시</td>\n",
       "      <td>2018</td>\n",
       "      <td>Seoul</td>\n",
       "      <td>11</td>\n",
       "      <td>POLYGON ((127.02215 37.69972, 127.02532 37.699...</td>\n",
       "      <td>1534</td>\n",
       "      <td>감북동</td>\n",
       "      <td>2018</td>\n",
       "      <td>Gambuk-dong</td>\n",
       "      <td>3118064</td>\n",
       "    </tr>\n",
       "    <tr>\n",
       "      <td>0</td>\n",
       "      <td>서울특별시</td>\n",
       "      <td>2018</td>\n",
       "      <td>Seoul</td>\n",
       "      <td>11</td>\n",
       "      <td>POLYGON ((127.02215 37.69972, 127.02532 37.699...</td>\n",
       "      <td>1530</td>\n",
       "      <td>초이동</td>\n",
       "      <td>2018</td>\n",
       "      <td>Choi-dong</td>\n",
       "      <td>3118060</td>\n",
       "    </tr>\n",
       "    <tr>\n",
       "      <td>0</td>\n",
       "      <td>서울특별시</td>\n",
       "      <td>2018</td>\n",
       "      <td>Seoul</td>\n",
       "      <td>11</td>\n",
       "      <td>POLYGON ((127.02215 37.69972, 127.02532 37.699...</td>\n",
       "      <td>1531</td>\n",
       "      <td>풍산동</td>\n",
       "      <td>2018</td>\n",
       "      <td>Pungsan-dong</td>\n",
       "      <td>3118061</td>\n",
       "    </tr>\n",
       "    <tr>\n",
       "      <td>0</td>\n",
       "      <td>서울특별시</td>\n",
       "      <td>2018</td>\n",
       "      <td>Seoul</td>\n",
       "      <td>11</td>\n",
       "      <td>POLYGON ((127.02215 37.69972, 127.02532 37.699...</td>\n",
       "      <td>407</td>\n",
       "      <td>상일동</td>\n",
       "      <td>2018</td>\n",
       "      <td>Sangil-dong</td>\n",
       "      <td>1125052</td>\n",
       "    </tr>\n",
       "    <tr>\n",
       "      <td>0</td>\n",
       "      <td>서울특별시</td>\n",
       "      <td>2018</td>\n",
       "      <td>Seoul</td>\n",
       "      <td>11</td>\n",
       "      <td>POLYGON ((127.02215 37.69972, 127.02532 37.699...</td>\n",
       "      <td>406</td>\n",
       "      <td>강일동</td>\n",
       "      <td>2018</td>\n",
       "      <td>Gangildong</td>\n",
       "      <td>1125051</td>\n",
       "    </tr>\n",
       "    <tr>\n",
       "      <td>...</td>\n",
       "      <td>...</td>\n",
       "      <td>...</td>\n",
       "      <td>...</td>\n",
       "      <td>...</td>\n",
       "      <td>...</td>\n",
       "      <td>...</td>\n",
       "      <td>...</td>\n",
       "      <td>...</td>\n",
       "      <td>...</td>\n",
       "      <td>...</td>\n",
       "    </tr>\n",
       "    <tr>\n",
       "      <td>0</td>\n",
       "      <td>서울특별시</td>\n",
       "      <td>2018</td>\n",
       "      <td>Seoul</td>\n",
       "      <td>11</td>\n",
       "      <td>POLYGON ((127.02215 37.69972, 127.02532 37.699...</td>\n",
       "      <td>250</td>\n",
       "      <td>가양1동</td>\n",
       "      <td>2018</td>\n",
       "      <td>Gayang 1(il)-dong</td>\n",
       "      <td>1116064</td>\n",
       "    </tr>\n",
       "    <tr>\n",
       "      <td>0</td>\n",
       "      <td>서울특별시</td>\n",
       "      <td>2018</td>\n",
       "      <td>Seoul</td>\n",
       "      <td>11</td>\n",
       "      <td>POLYGON ((127.02215 37.69972, 127.02532 37.699...</td>\n",
       "      <td>192</td>\n",
       "      <td>천연동</td>\n",
       "      <td>2018</td>\n",
       "      <td>Cheonyeon-dong</td>\n",
       "      <td>1113052</td>\n",
       "    </tr>\n",
       "    <tr>\n",
       "      <td>0</td>\n",
       "      <td>서울특별시</td>\n",
       "      <td>2018</td>\n",
       "      <td>Seoul</td>\n",
       "      <td>11</td>\n",
       "      <td>POLYGON ((127.02215 37.69972, 127.02532 37.699...</td>\n",
       "      <td>1337</td>\n",
       "      <td>오정동</td>\n",
       "      <td>2018</td>\n",
       "      <td>Ojeong-dong</td>\n",
       "      <td>3105083</td>\n",
       "    </tr>\n",
       "    <tr>\n",
       "      <td>0</td>\n",
       "      <td>서울특별시</td>\n",
       "      <td>2018</td>\n",
       "      <td>Seoul</td>\n",
       "      <td>11</td>\n",
       "      <td>POLYGON ((127.02215 37.69972, 127.02532 37.699...</td>\n",
       "      <td>878</td>\n",
       "      <td>계양3동</td>\n",
       "      <td>2018</td>\n",
       "      <td>Gyeyang 2-dong</td>\n",
       "      <td>2307064</td>\n",
       "    </tr>\n",
       "    <tr>\n",
       "      <td>0</td>\n",
       "      <td>서울특별시</td>\n",
       "      <td>2018</td>\n",
       "      <td>Seoul</td>\n",
       "      <td>11</td>\n",
       "      <td>POLYGON ((127.02215 37.69972, 127.02532 37.699...</td>\n",
       "      <td>1617</td>\n",
       "      <td>고촌읍</td>\n",
       "      <td>2018</td>\n",
       "      <td>Gochoneup</td>\n",
       "      <td>3123012</td>\n",
       "    </tr>\n",
       "  </tbody>\n",
       "</table>\n",
       "<p>473 rows × 10 columns</p>\n",
       "</div>"
      ],
      "text/plain": [
       "   name_left base_year_left name_eng_left code_left  \\\n",
       "0      서울특별시           2018         Seoul        11   \n",
       "0      서울특별시           2018         Seoul        11   \n",
       "0      서울특별시           2018         Seoul        11   \n",
       "0      서울특별시           2018         Seoul        11   \n",
       "0      서울특별시           2018         Seoul        11   \n",
       "..       ...            ...           ...       ...   \n",
       "0      서울특별시           2018         Seoul        11   \n",
       "0      서울특별시           2018         Seoul        11   \n",
       "0      서울특별시           2018         Seoul        11   \n",
       "0      서울특별시           2018         Seoul        11   \n",
       "0      서울특별시           2018         Seoul        11   \n",
       "\n",
       "                                             geometry  index_right name_right  \\\n",
       "0   POLYGON ((127.02215 37.69972, 127.02532 37.699...         1534        감북동   \n",
       "0   POLYGON ((127.02215 37.69972, 127.02532 37.699...         1530        초이동   \n",
       "0   POLYGON ((127.02215 37.69972, 127.02532 37.699...         1531        풍산동   \n",
       "0   POLYGON ((127.02215 37.69972, 127.02532 37.699...          407        상일동   \n",
       "0   POLYGON ((127.02215 37.69972, 127.02532 37.699...          406        강일동   \n",
       "..                                                ...          ...        ...   \n",
       "0   POLYGON ((127.02215 37.69972, 127.02532 37.699...          250       가양1동   \n",
       "0   POLYGON ((127.02215 37.69972, 127.02532 37.699...          192        천연동   \n",
       "0   POLYGON ((127.02215 37.69972, 127.02532 37.699...         1337        오정동   \n",
       "0   POLYGON ((127.02215 37.69972, 127.02532 37.699...          878       계양3동   \n",
       "0   POLYGON ((127.02215 37.69972, 127.02532 37.699...         1617        고촌읍   \n",
       "\n",
       "   base_year_right     name_eng_right code_right  \n",
       "0             2018        Gambuk-dong    3118064  \n",
       "0             2018          Choi-dong    3118060  \n",
       "0             2018       Pungsan-dong    3118061  \n",
       "0             2018        Sangil-dong    1125052  \n",
       "0             2018         Gangildong    1125051  \n",
       "..             ...                ...        ...  \n",
       "0             2018  Gayang 1(il)-dong    1116064  \n",
       "0             2018     Cheonyeon-dong    1113052  \n",
       "0             2018        Ojeong-dong    3105083  \n",
       "0             2018     Gyeyang 2-dong    2307064  \n",
       "0             2018          Gochoneup    3123012  \n",
       "\n",
       "[473 rows x 10 columns]"
      ]
     },
     "execution_count": 51,
     "metadata": {},
     "output_type": "execute_result"
    }
   ],
   "source": [
    "seoulnbds"
   ]
  },
  {
   "cell_type": "code",
   "execution_count": 33,
   "metadata": {},
   "outputs": [
    {
     "data": {
      "text/plain": [
       "<matplotlib.axes._subplots.AxesSubplot at 0x12571dd50>"
      ]
     },
     "execution_count": 33,
     "metadata": {},
     "output_type": "execute_result"
    },
    {
     "data": {
      "image/png": "[encoded data removed]",
      "text/plain": [
       "<Figure size 432x288 with 1 Axes>"
      ]
     },
     "metadata": {
      "needs_background": "light"
     },
     "output_type": "display_data"
    }
   ],
   "source": []
  },
  {
   "cell_type": "code",
   "execution_count": null,
   "metadata": {},
   "outputs": [],
   "source": []
  }
 ],
 "metadata": {
  "kernelspec": {
   "display_name": "Python 3",
   "language": "python",
   "name": "python3"
  },
  "language_info": {
   "codemirror_mode": {
    "name": "ipython",
    "version": 3
   },
   "file_extension": ".py",
   "mimetype": "text/x-python",
   "name": "python",
   "nbconvert_exporter": "python",
   "pygments_lexer": "ipython3",
   "version": "3.7.4"
  }
 },
 "nbformat": 4,
 "nbformat_minor": 2
}
